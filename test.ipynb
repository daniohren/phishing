{
  "nbformat": 4,
  "nbformat_minor": 0,
  "metadata": {
    "accelerator": "GPU",
    "colab": {
      "name": "Phishing.ipynb",
      "provenance": [],
      "collapsed_sections": [],
      "toc_visible": true
    },
    "kernelspec": {
      "display_name": "Python 3",
      "language": "python",
      "name": "python3"
    },
    "language_info": {
      "codemirror_mode": {
        "name": "ipython",
        "version": 3
      },
      "file_extension": ".py",
      "mimetype": "text/x-python",
      "name": "python",
      "nbconvert_exporter": "python",
      "pygments_lexer": "ipython3",
      "version": "3.7.3"
    }
  },
  "cells": [
    {
      "cell_type": "markdown",
      "metadata": {
        "id": "40sTMqrgS2sI",
        "colab_type": "text"
      },
      "source": [
        "## Clone Git Repo and Install Dependencies"
      ]
    },
    {
      "cell_type": "code",
      "metadata": {
        "id": "SyRJIdGVS09Q",
        "colab_type": "code",
        "colab": {
          "base_uri": "https://localhost:8080/",
          "height": 575
        },
        "outputId": "8fc26ce1-c392-48cf-b10a-dcbbe305c78c"
      },
      "source": [
        "!git clone https://github.com/daniohren/phishing.git\n",
        "%cd phishing\n",
        "!pip install tldextract\n",
        "!pip install python-whois\n",
        "!pip install favicon\n",
        "!pip install pyOpenSSl"
      ],
      "execution_count": 1,
      "outputs": [
        {
          "output_type": "stream",
          "text": [
            "Cloning into 'phishing'...\n",
            "remote: Enumerating objects: 62, done.\u001b[K\n",
            "remote: Counting objects: 100% (62/62), done.\u001b[K\n",
            "remote: Compressing objects: 100% (61/61), done.\u001b[K\n",
            "remote: Total 62 (delta 31), reused 0 (delta 0), pack-reused 0\u001b[K\n",
            "Unpacking objects: 100% (62/62), done.\n",
            "/content/phishing\n",
            "Requirement already satisfied: tldextract in /usr/local/lib/python3.6/dist-packages (2.2.2)\n",
            "Requirement already satisfied: requests-file>=1.4 in /usr/local/lib/python3.6/dist-packages (from tldextract) (1.5.1)\n",
            "Requirement already satisfied: idna in /usr/local/lib/python3.6/dist-packages (from tldextract) (2.9)\n",
            "Requirement already satisfied: requests>=2.1.0 in /usr/local/lib/python3.6/dist-packages (from tldextract) (2.23.0)\n",
            "Requirement already satisfied: setuptools in /usr/local/lib/python3.6/dist-packages (from tldextract) (46.1.3)\n",
            "Requirement already satisfied: six in /usr/local/lib/python3.6/dist-packages (from requests-file>=1.4->tldextract) (1.12.0)\n",
            "Requirement already satisfied: certifi>=2017.4.17 in /usr/local/lib/python3.6/dist-packages (from requests>=2.1.0->tldextract) (2020.4.5.1)\n",
            "Requirement already satisfied: urllib3!=1.25.0,!=1.25.1,<1.26,>=1.21.1 in /usr/local/lib/python3.6/dist-packages (from requests>=2.1.0->tldextract) (1.24.3)\n",
            "Requirement already satisfied: chardet<4,>=3.0.2 in /usr/local/lib/python3.6/dist-packages (from requests>=2.1.0->tldextract) (3.0.4)\n",
            "Requirement already satisfied: python-whois in /usr/local/lib/python3.6/dist-packages (0.7.2)\n",
            "Requirement already satisfied: future in /usr/local/lib/python3.6/dist-packages (from python-whois) (0.16.0)\n",
            "Requirement already satisfied: favicon in /usr/local/lib/python3.6/dist-packages (0.7.0)\n",
            "Requirement already satisfied: beautifulsoup4>=4.7.0 in /usr/local/lib/python3.6/dist-packages (from favicon) (4.9.0)\n",
            "Requirement already satisfied: requests>=2.21.0 in /usr/local/lib/python3.6/dist-packages (from favicon) (2.23.0)\n",
            "Requirement already satisfied: soupsieve>1.2 in /usr/local/lib/python3.6/dist-packages (from beautifulsoup4>=4.7.0->favicon) (2.0)\n",
            "Requirement already satisfied: chardet<4,>=3.0.2 in /usr/local/lib/python3.6/dist-packages (from requests>=2.21.0->favicon) (3.0.4)\n",
            "Requirement already satisfied: idna<3,>=2.5 in /usr/local/lib/python3.6/dist-packages (from requests>=2.21.0->favicon) (2.9)\n",
            "Requirement already satisfied: certifi>=2017.4.17 in /usr/local/lib/python3.6/dist-packages (from requests>=2.21.0->favicon) (2020.4.5.1)\n",
            "Requirement already satisfied: urllib3!=1.25.0,!=1.25.1,<1.26,>=1.21.1 in /usr/local/lib/python3.6/dist-packages (from requests>=2.21.0->favicon) (1.24.3)\n",
            "Requirement already satisfied: pyOpenSSl in /usr/local/lib/python3.6/dist-packages (19.1.0)\n",
            "Requirement already satisfied: six>=1.5.2 in /usr/local/lib/python3.6/dist-packages (from pyOpenSSl) (1.12.0)\n",
            "Requirement already satisfied: cryptography>=2.8 in /usr/local/lib/python3.6/dist-packages (from pyOpenSSl) (2.9.2)\n",
            "Requirement already satisfied: cffi!=1.11.3,>=1.8 in /usr/local/lib/python3.6/dist-packages (from cryptography>=2.8->pyOpenSSl) (1.14.0)\n",
            "Requirement already satisfied: pycparser in /usr/local/lib/python3.6/dist-packages (from cffi!=1.11.3,>=1.8->cryptography>=2.8->pyOpenSSl) (2.20)\n"
          ],
          "name": "stdout"
        }
      ]
    },
    {
      "cell_type": "markdown",
      "metadata": {
        "id": "H9RQeM5-S0ET",
        "colab_type": "text"
      },
      "source": [
        "## Load Libraries"
      ]
    },
    {
      "cell_type": "code",
      "metadata": {
        "id": "Lj20MWAcS0EU",
        "colab_type": "code",
        "colab": {}
      },
      "source": [
        "from URL_Classifier import get_features\n",
        "import xgboost as xgb\n",
        "import pandas as pd\n",
        "import numpy as np\n",
        "import pickle"
      ],
      "execution_count": 0,
      "outputs": []
    },
    {
      "cell_type": "markdown",
      "metadata": {
        "id": "ais07gpxS0Eb",
        "colab_type": "text"
      },
      "source": [
        "## Unpickle Best Model"
      ]
    },
    {
      "cell_type": "code",
      "metadata": {
        "id": "yo-lp5HqS0Ee",
        "colab_type": "code",
        "colab": {}
      },
      "source": [
        "# load\n",
        "xgb_model = pickle.load(open(\"finalized_model.pkl\", \"rb\"))"
      ],
      "execution_count": 0,
      "outputs": []
    },
    {
      "cell_type": "code",
      "metadata": {
        "id": "1WrwI2R6S0En",
        "colab_type": "code",
        "outputId": "7d05ef3a-6868-4208-ce6a-13ab07381ae3",
        "colab": {
          "base_uri": "https://localhost:8080/",
          "height": 104
        }
      },
      "source": [
        "# d = {'Urls': ['https://google.com', 'https://facebook.com']}\n",
        "# urls = pd.DataFrame(data=d)\n",
        "new_data = pd.read_csv('phish_test_data2.csv')\n",
        "new_data = new_data[0:4]\n",
        "urls = new_data['Urls']\n",
        "urls"
      ],
      "execution_count": 7,
      "outputs": [
        {
          "output_type": "execute_result",
          "data": {
            "text/plain": [
              "0    https://rakuten.co.jp8.memberonineawesoxcznmsa...\n",
              "1    https://libreria.culturayanesha.com/fourpf/ret...\n",
              "2    https://rakuten.co.jp1.memberonineawesoxcznmsa...\n",
              "3    https://rakuten.co.jp0.memberonineawesoxcznmsa...\n",
              "Name: Urls, dtype: object"
            ]
          },
          "metadata": {
            "tags": []
          },
          "execution_count": 7
        }
      ]
    },
    {
      "cell_type": "code",
      "metadata": {
        "id": "F6fUOctxS0Er",
        "colab_type": "code",
        "outputId": "5b53ad87-7d84-4377-bf90-bde64dfb67f3",
        "colab": {
          "base_uri": "https://localhost:8080/",
          "height": 503
        }
      },
      "source": [
        "features = get_features(urls)\n",
        "features"
      ],
      "execution_count": 8,
      "outputs": [
        {
          "output_type": "stream",
          "text": [
            "https://rakuten.co.jp8.memberonineawesoxcznmsaouresxcsum6.xyz/l/c/n : Completed\n",
            "https://libreria.culturayanesha.com/fourpf/retrieve/spool/?id=cHJpdmFjaWRhZEBwcm9iaW9tZWQuY29tLm14 : Completed\n",
            "https://rakuten.co.jp1.memberonineawesoxcznmsaouresxcsum8.xyz/s/u/i : Completed\n",
            "https://rakuten.co.jp0.memberonineawesoxcznmsaouresxcsum7.xyz/p/q/m : Completed\n"
          ],
          "name": "stdout"
        },
        {
          "output_type": "execute_result",
          "data": {
            "text/plain": [
              "array([[ 1.        ,  0.        ,  1.        ,  1.        ,  1.        ,\n",
              "         1.        , -1.        , -1.        ,  0.        ,  0.        ,\n",
              "         1.        ,  0.        ,  0.        ,  0.        ,  0.        ,\n",
              "         0.        ,  0.        ,  0.        ,  0.        ,  0.        ,\n",
              "         0.        ,  0.        ,  1.        , -1.        ,  1.        ,\n",
              "         5.        ,  1.        ,  0.        ],\n",
              "       [ 1.        , -1.        ,  1.        ,  1.        ,  1.        ,\n",
              "         1.        ,  0.        , -1.        ,  0.        ,  0.        ,\n",
              "         1.        ,  0.        ,  0.        ,  0.        ,  0.        ,\n",
              "         0.        ,  0.        ,  0.        ,  0.        ,  0.        ,\n",
              "         0.        ,  0.        ,  1.        , -1.        ,  1.        ,\n",
              "         5.        ,  1.        ,  0.3207111 ],\n",
              "       [ 1.        ,  0.        ,  1.        ,  1.        ,  1.        ,\n",
              "         1.        , -1.        , -1.        ,  0.        ,  0.        ,\n",
              "         1.        ,  0.        ,  0.        ,  0.        ,  0.        ,\n",
              "         0.        ,  0.        ,  0.        ,  0.        ,  0.        ,\n",
              "         0.        ,  0.        ,  1.        , -1.        ,  1.        ,\n",
              "         5.        ,  1.        ,  0.62191531],\n",
              "       [ 1.        ,  0.        ,  1.        ,  1.        ,  1.        ,\n",
              "         1.        , -1.        , -1.        ,  0.        ,  0.        ,\n",
              "         1.        ,  0.        ,  0.        ,  0.        ,  0.        ,\n",
              "         0.        ,  0.        ,  0.        ,  0.        ,  0.        ,\n",
              "         0.        ,  0.        ,  1.        , -1.        ,  1.        ,\n",
              "         5.        ,  1.        ,  0.90359831]])"
            ]
          },
          "metadata": {
            "tags": []
          },
          "execution_count": 8
        }
      ]
    },
    {
      "cell_type": "code",
      "metadata": {
        "id": "t9-cN6_SS0Ev",
        "colab_type": "code",
        "colab": {}
      },
      "source": [
        "outcomes = xgb_model.predict(features)"
      ],
      "execution_count": 0,
      "outputs": []
    },
    {
      "cell_type": "code",
      "metadata": {
        "id": "alvhQPJtS0E1",
        "colab_type": "code",
        "colab": {
          "base_uri": "https://localhost:8080/",
          "height": 171
        },
        "outputId": "42130926-0eb4-4f0d-f336-1508665eb68d"
      },
      "source": [
        "result = pd.DataFrame({'Urls':urls,'Predicted':outcomes,'True':new_data['Result']})\n",
        "result"
      ],
      "execution_count": 11,
      "outputs": [
        {
          "output_type": "execute_result",
          "data": {
            "text/html": [
              "<div>\n",
              "<style scoped>\n",
              "    .dataframe tbody tr th:only-of-type {\n",
              "        vertical-align: middle;\n",
              "    }\n",
              "\n",
              "    .dataframe tbody tr th {\n",
              "        vertical-align: top;\n",
              "    }\n",
              "\n",
              "    .dataframe thead th {\n",
              "        text-align: right;\n",
              "    }\n",
              "</style>\n",
              "<table border=\"1\" class=\"dataframe\">\n",
              "  <thead>\n",
              "    <tr style=\"text-align: right;\">\n",
              "      <th></th>\n",
              "      <th>Urls</th>\n",
              "      <th>Predicted</th>\n",
              "      <th>True</th>\n",
              "    </tr>\n",
              "  </thead>\n",
              "  <tbody>\n",
              "    <tr>\n",
              "      <th>0</th>\n",
              "      <td>https://rakuten.co.jp8.memberonineawesoxcznmsa...</td>\n",
              "      <td>1</td>\n",
              "      <td>-1</td>\n",
              "    </tr>\n",
              "    <tr>\n",
              "      <th>1</th>\n",
              "      <td>https://libreria.culturayanesha.com/fourpf/ret...</td>\n",
              "      <td>1</td>\n",
              "      <td>-1</td>\n",
              "    </tr>\n",
              "    <tr>\n",
              "      <th>2</th>\n",
              "      <td>https://rakuten.co.jp1.memberonineawesoxcznmsa...</td>\n",
              "      <td>1</td>\n",
              "      <td>-1</td>\n",
              "    </tr>\n",
              "    <tr>\n",
              "      <th>3</th>\n",
              "      <td>https://rakuten.co.jp0.memberonineawesoxcznmsa...</td>\n",
              "      <td>1</td>\n",
              "      <td>-1</td>\n",
              "    </tr>\n",
              "  </tbody>\n",
              "</table>\n",
              "</div>"
            ],
            "text/plain": [
              "                                                Urls  Predicted  True\n",
              "0  https://rakuten.co.jp8.memberonineawesoxcznmsa...          1    -1\n",
              "1  https://libreria.culturayanesha.com/fourpf/ret...          1    -1\n",
              "2  https://rakuten.co.jp1.memberonineawesoxcznmsa...          1    -1\n",
              "3  https://rakuten.co.jp0.memberonineawesoxcznmsa...          1    -1"
            ]
          },
          "metadata": {
            "tags": []
          },
          "execution_count": 11
        }
      ]
    }
  ]
}