{
  "nbformat": 4,
  "nbformat_minor": 0,
  "metadata": {
    "accelerator": "GPU",
    "colab": {
      "name": "Phishing.ipynb",
      "provenance": [],
      "collapsed_sections": [],
      "toc_visible": true
    },
    "kernelspec": {
      "display_name": "Python 3",
      "language": "python",
      "name": "python3"
    },
    "language_info": {
      "codemirror_mode": {
        "name": "ipython",
        "version": 3
      },
      "file_extension": ".py",
      "mimetype": "text/x-python",
      "name": "python",
      "nbconvert_exporter": "python",
      "pygments_lexer": "ipython3",
      "version": "3.7.3"
    }
  },
  "cells": [
    {
      "cell_type": "code",
      "metadata": {
        "id": "pJyiF2dP5qly",
        "colab_type": "code",
        "colab": {
          "base_uri": "https://localhost:8080/",
          "height": 35
        },
        "outputId": "16c9a32e-7f8b-473c-a6a4-dea01d9cc25a"
      },
      "source": [
        "# %cd ..\n",
        "# %rm -rf phishing"
      ],
      "execution_count": 12,
      "outputs": [
        {
          "output_type": "stream",
          "text": [
            "/content\n"
          ],
          "name": "stdout"
        }
      ]
    },
    {
      "cell_type": "markdown",
      "metadata": {
        "id": "ouZZzq_2Vy2f",
        "colab_type": "text"
      },
      "source": [
        "## Clone Git Repo"
      ]
    },
    {
      "cell_type": "code",
      "metadata": {
        "id": "Sn0EfrIXVyKG",
        "colab_type": "code",
        "outputId": "a5c76ea8-689d-4d87-c792-b59de497c080",
        "colab": {
          "base_uri": "https://localhost:8080/",
          "height": 156
        }
      },
      "source": [
        "!git clone https://github.com/daniohren/phishing.git\n",
        "%cd phishing"
      ],
      "execution_count": 13,
      "outputs": [
        {
          "output_type": "stream",
          "text": [
            "Cloning into 'phishing'...\n",
            "remote: Enumerating objects: 114, done.\u001b[K\n",
            "remote: Counting objects: 100% (114/114), done.\u001b[K\n",
            "remote: Compressing objects: 100% (113/113), done.\u001b[K\n",
            "remote: Total 114 (delta 61), reused 0 (delta 0), pack-reused 0\u001b[K\n",
            "Receiving objects: 100% (114/114), 5.88 MiB | 5.83 MiB/s, done.\n",
            "Resolving deltas: 100% (61/61), done.\n",
            "/content/phishing\n"
          ],
          "name": "stdout"
        }
      ]
    },
    {
      "cell_type": "markdown",
      "metadata": {
        "colab_type": "text",
        "id": "jnHrIST-_Nsy"
      },
      "source": [
        "## Import Libraries"
      ]
    },
    {
      "cell_type": "code",
      "metadata": {
        "colab_type": "code",
        "id": "x8EFATg44Q7Q",
        "colab": {}
      },
      "source": [
        "# Pytorch Libraries\n",
        "import torch\n",
        "import torchvision\n",
        "import torch.nn.functional as F\n",
        "\n",
        "# Model Libraries\n",
        "import xgboost as xgb\n",
        "from sklearn.model_selection import GridSearchCV, RandomizedSearchCV\n",
        "from sklearn.model_selection import StratifiedKFold, cross_val_score, cross_validate, train_test_split\n",
        "from sklearn.metrics import log_loss, accuracy_score\n",
        "from sklearn import ensemble\n",
        "\n",
        "# Visualisation Libraries\n",
        "from tqdm import tqdm_notebook\n",
        "import matplotlib.pyplot as plt\n",
        "import seaborn as sns\n",
        "\n",
        "# General\n",
        "import pandas as pd\n",
        "import numpy as np\n",
        "import copy\n",
        "import gc\n",
        "import shutil\n",
        "import pickle"
      ],
      "execution_count": 0,
      "outputs": []
    },
    {
      "cell_type": "markdown",
      "metadata": {
        "colab_type": "text",
        "id": "LbjBFsrcCQcC"
      },
      "source": [
        "## Load Kaggle Data"
      ]
    },
    {
      "cell_type": "code",
      "metadata": {
        "colab_type": "code",
        "id": "ewrWVssNCSNl",
        "colab": {}
      },
      "source": [
        "data_url = \"phish_test_data2_features.csv\"\n",
        "\n",
        "data = pd.read_csv(data_url)"
      ],
      "execution_count": 0,
      "outputs": []
    },
    {
      "cell_type": "markdown",
      "metadata": {
        "colab_type": "text",
        "id": "PGDv7NoSKRIm"
      },
      "source": [
        "## Display sample of Data"
      ]
    },
    {
      "cell_type": "code",
      "metadata": {
        "colab_type": "code",
        "id": "ceydnWpNMxK4",
        "outputId": "5dc30a80-7bce-4694-e553-a99be08f28ef",
        "colab": {
          "base_uri": "https://localhost:8080/",
          "height": 375
        }
      },
      "source": [
        "data.head(10)"
      ],
      "execution_count": 15,
      "outputs": [
        {
          "output_type": "execute_result",
          "data": {
            "text/html": [
              "<div>\n",
              "<style scoped>\n",
              "    .dataframe tbody tr th:only-of-type {\n",
              "        vertical-align: middle;\n",
              "    }\n",
              "\n",
              "    .dataframe tbody tr th {\n",
              "        vertical-align: top;\n",
              "    }\n",
              "\n",
              "    .dataframe thead th {\n",
              "        text-align: right;\n",
              "    }\n",
              "</style>\n",
              "<table border=\"1\" class=\"dataframe\">\n",
              "  <thead>\n",
              "    <tr style=\"text-align: right;\">\n",
              "      <th></th>\n",
              "      <th>IPinURL</th>\n",
              "      <th>length</th>\n",
              "      <th>shortened</th>\n",
              "      <th>at_symbol</th>\n",
              "      <th>redirect_slashes</th>\n",
              "      <th>prefsuf</th>\n",
              "      <th>subdomain</th>\n",
              "      <th>tld</th>\n",
              "      <th>https_domain</th>\n",
              "      <th>website_traffic</th>\n",
              "      <th>statistical_report</th>\n",
              "      <th>certificate</th>\n",
              "      <th>domain_age</th>\n",
              "      <th>reg_length</th>\n",
              "      <th>Result</th>\n",
              "    </tr>\n",
              "  </thead>\n",
              "  <tbody>\n",
              "    <tr>\n",
              "      <th>0</th>\n",
              "      <td>1.0</td>\n",
              "      <td>-0.67</td>\n",
              "      <td>1.0</td>\n",
              "      <td>1.0</td>\n",
              "      <td>1.0</td>\n",
              "      <td>1.0</td>\n",
              "      <td>-3.0</td>\n",
              "      <td>-0.39</td>\n",
              "      <td>1.0</td>\n",
              "      <td>-1.0</td>\n",
              "      <td>1.0</td>\n",
              "      <td>1.0</td>\n",
              "      <td>0.004</td>\n",
              "      <td>0.361</td>\n",
              "      <td>-1</td>\n",
              "    </tr>\n",
              "    <tr>\n",
              "      <th>1</th>\n",
              "      <td>1.0</td>\n",
              "      <td>-0.98</td>\n",
              "      <td>1.0</td>\n",
              "      <td>1.0</td>\n",
              "      <td>1.0</td>\n",
              "      <td>1.0</td>\n",
              "      <td>-1.0</td>\n",
              "      <td>-0.48</td>\n",
              "      <td>1.0</td>\n",
              "      <td>-1.0</td>\n",
              "      <td>1.0</td>\n",
              "      <td>1.0</td>\n",
              "      <td>0.233</td>\n",
              "      <td>0.133</td>\n",
              "      <td>-1</td>\n",
              "    </tr>\n",
              "    <tr>\n",
              "      <th>2</th>\n",
              "      <td>1.0</td>\n",
              "      <td>-0.67</td>\n",
              "      <td>1.0</td>\n",
              "      <td>1.0</td>\n",
              "      <td>1.0</td>\n",
              "      <td>1.0</td>\n",
              "      <td>-3.0</td>\n",
              "      <td>-0.39</td>\n",
              "      <td>1.0</td>\n",
              "      <td>-1.0</td>\n",
              "      <td>1.0</td>\n",
              "      <td>1.0</td>\n",
              "      <td>0.004</td>\n",
              "      <td>0.361</td>\n",
              "      <td>-1</td>\n",
              "    </tr>\n",
              "    <tr>\n",
              "      <th>3</th>\n",
              "      <td>1.0</td>\n",
              "      <td>-0.67</td>\n",
              "      <td>1.0</td>\n",
              "      <td>1.0</td>\n",
              "      <td>1.0</td>\n",
              "      <td>1.0</td>\n",
              "      <td>-3.0</td>\n",
              "      <td>-0.39</td>\n",
              "      <td>1.0</td>\n",
              "      <td>-1.0</td>\n",
              "      <td>1.0</td>\n",
              "      <td>1.0</td>\n",
              "      <td>0.004</td>\n",
              "      <td>0.361</td>\n",
              "      <td>-1</td>\n",
              "    </tr>\n",
              "    <tr>\n",
              "      <th>4</th>\n",
              "      <td>1.0</td>\n",
              "      <td>-0.36</td>\n",
              "      <td>1.0</td>\n",
              "      <td>1.0</td>\n",
              "      <td>1.0</td>\n",
              "      <td>1.0</td>\n",
              "      <td>-1.0</td>\n",
              "      <td>-0.48</td>\n",
              "      <td>1.0</td>\n",
              "      <td>1.0</td>\n",
              "      <td>1.0</td>\n",
              "      <td>1.0</td>\n",
              "      <td>7.226</td>\n",
              "      <td>0.079</td>\n",
              "      <td>-1</td>\n",
              "    </tr>\n",
              "    <tr>\n",
              "      <th>5</th>\n",
              "      <td>1.0</td>\n",
              "      <td>-0.38</td>\n",
              "      <td>1.0</td>\n",
              "      <td>1.0</td>\n",
              "      <td>1.0</td>\n",
              "      <td>1.0</td>\n",
              "      <td>-1.0</td>\n",
              "      <td>-0.48</td>\n",
              "      <td>1.0</td>\n",
              "      <td>1.0</td>\n",
              "      <td>1.0</td>\n",
              "      <td>1.0</td>\n",
              "      <td>7.226</td>\n",
              "      <td>0.079</td>\n",
              "      <td>-1</td>\n",
              "    </tr>\n",
              "    <tr>\n",
              "      <th>6</th>\n",
              "      <td>1.0</td>\n",
              "      <td>-0.67</td>\n",
              "      <td>1.0</td>\n",
              "      <td>1.0</td>\n",
              "      <td>1.0</td>\n",
              "      <td>1.0</td>\n",
              "      <td>-3.0</td>\n",
              "      <td>-0.39</td>\n",
              "      <td>1.0</td>\n",
              "      <td>-1.0</td>\n",
              "      <td>1.0</td>\n",
              "      <td>-1.0</td>\n",
              "      <td>0.004</td>\n",
              "      <td>0.361</td>\n",
              "      <td>-1</td>\n",
              "    </tr>\n",
              "    <tr>\n",
              "      <th>7</th>\n",
              "      <td>1.0</td>\n",
              "      <td>-0.67</td>\n",
              "      <td>1.0</td>\n",
              "      <td>1.0</td>\n",
              "      <td>1.0</td>\n",
              "      <td>1.0</td>\n",
              "      <td>-3.0</td>\n",
              "      <td>-0.39</td>\n",
              "      <td>1.0</td>\n",
              "      <td>-1.0</td>\n",
              "      <td>1.0</td>\n",
              "      <td>1.0</td>\n",
              "      <td>0.004</td>\n",
              "      <td>0.361</td>\n",
              "      <td>-1</td>\n",
              "    </tr>\n",
              "    <tr>\n",
              "      <th>8</th>\n",
              "      <td>1.0</td>\n",
              "      <td>-0.67</td>\n",
              "      <td>1.0</td>\n",
              "      <td>1.0</td>\n",
              "      <td>1.0</td>\n",
              "      <td>1.0</td>\n",
              "      <td>-3.0</td>\n",
              "      <td>-0.39</td>\n",
              "      <td>1.0</td>\n",
              "      <td>-1.0</td>\n",
              "      <td>1.0</td>\n",
              "      <td>1.0</td>\n",
              "      <td>0.180</td>\n",
              "      <td>0.365</td>\n",
              "      <td>-1</td>\n",
              "    </tr>\n",
              "    <tr>\n",
              "      <th>9</th>\n",
              "      <td>1.0</td>\n",
              "      <td>-0.67</td>\n",
              "      <td>1.0</td>\n",
              "      <td>1.0</td>\n",
              "      <td>1.0</td>\n",
              "      <td>1.0</td>\n",
              "      <td>-3.0</td>\n",
              "      <td>-0.39</td>\n",
              "      <td>1.0</td>\n",
              "      <td>-1.0</td>\n",
              "      <td>1.0</td>\n",
              "      <td>1.0</td>\n",
              "      <td>0.180</td>\n",
              "      <td>0.365</td>\n",
              "      <td>-1</td>\n",
              "    </tr>\n",
              "  </tbody>\n",
              "</table>\n",
              "</div>"
            ],
            "text/plain": [
              "   IPinURL  length  shortened  ...  domain_age  reg_length  Result\n",
              "0      1.0   -0.67        1.0  ...       0.004       0.361      -1\n",
              "1      1.0   -0.98        1.0  ...       0.233       0.133      -1\n",
              "2      1.0   -0.67        1.0  ...       0.004       0.361      -1\n",
              "3      1.0   -0.67        1.0  ...       0.004       0.361      -1\n",
              "4      1.0   -0.36        1.0  ...       7.226       0.079      -1\n",
              "5      1.0   -0.38        1.0  ...       7.226       0.079      -1\n",
              "6      1.0   -0.67        1.0  ...       0.004       0.361      -1\n",
              "7      1.0   -0.67        1.0  ...       0.004       0.361      -1\n",
              "8      1.0   -0.67        1.0  ...       0.180       0.365      -1\n",
              "9      1.0   -0.67        1.0  ...       0.180       0.365      -1\n",
              "\n",
              "[10 rows x 15 columns]"
            ]
          },
          "metadata": {
            "tags": []
          },
          "execution_count": 15
        }
      ]
    },
    {
      "cell_type": "markdown",
      "metadata": {
        "colab_type": "text",
        "id": "hV9PVMsAZNoi"
      },
      "source": [
        "## Display Data Statistics"
      ]
    },
    {
      "cell_type": "code",
      "metadata": {
        "colab_type": "code",
        "id": "YGog_l-uZNBM",
        "outputId": "1ae904ff-e410-47eb-bfa3-7fc07a99edb7",
        "colab": {
          "base_uri": "https://localhost:8080/",
          "height": 314
        }
      },
      "source": [
        "data.describe()"
      ],
      "execution_count": 16,
      "outputs": [
        {
          "output_type": "execute_result",
          "data": {
            "text/html": [
              "<div>\n",
              "<style scoped>\n",
              "    .dataframe tbody tr th:only-of-type {\n",
              "        vertical-align: middle;\n",
              "    }\n",
              "\n",
              "    .dataframe tbody tr th {\n",
              "        vertical-align: top;\n",
              "    }\n",
              "\n",
              "    .dataframe thead th {\n",
              "        text-align: right;\n",
              "    }\n",
              "</style>\n",
              "<table border=\"1\" class=\"dataframe\">\n",
              "  <thead>\n",
              "    <tr style=\"text-align: right;\">\n",
              "      <th></th>\n",
              "      <th>IPinURL</th>\n",
              "      <th>length</th>\n",
              "      <th>shortened</th>\n",
              "      <th>at_symbol</th>\n",
              "      <th>redirect_slashes</th>\n",
              "      <th>prefsuf</th>\n",
              "      <th>subdomain</th>\n",
              "      <th>tld</th>\n",
              "      <th>https_domain</th>\n",
              "      <th>website_traffic</th>\n",
              "      <th>statistical_report</th>\n",
              "      <th>certificate</th>\n",
              "      <th>domain_age</th>\n",
              "      <th>reg_length</th>\n",
              "      <th>Result</th>\n",
              "    </tr>\n",
              "  </thead>\n",
              "  <tbody>\n",
              "    <tr>\n",
              "      <th>count</th>\n",
              "      <td>617.000000</td>\n",
              "      <td>617.000000</td>\n",
              "      <td>617.0</td>\n",
              "      <td>617.000000</td>\n",
              "      <td>617.000000</td>\n",
              "      <td>617.000000</td>\n",
              "      <td>617.000000</td>\n",
              "      <td>617.000000</td>\n",
              "      <td>617.000000</td>\n",
              "      <td>617.000000</td>\n",
              "      <td>617.000000</td>\n",
              "      <td>617.000000</td>\n",
              "      <td>617.000000</td>\n",
              "      <td>617.000000</td>\n",
              "      <td>617.000000</td>\n",
              "    </tr>\n",
              "    <tr>\n",
              "      <th>mean</th>\n",
              "      <td>0.974068</td>\n",
              "      <td>-1.358833</td>\n",
              "      <td>1.0</td>\n",
              "      <td>0.987034</td>\n",
              "      <td>0.993517</td>\n",
              "      <td>0.769854</td>\n",
              "      <td>-0.539708</td>\n",
              "      <td>-0.416791</td>\n",
              "      <td>0.996759</td>\n",
              "      <td>0.053485</td>\n",
              "      <td>0.983793</td>\n",
              "      <td>0.153971</td>\n",
              "      <td>2.503697</td>\n",
              "      <td>0.460621</td>\n",
              "      <td>0.115073</td>\n",
              "    </tr>\n",
              "    <tr>\n",
              "      <th>std</th>\n",
              "      <td>0.226439</td>\n",
              "      <td>1.720178</td>\n",
              "      <td>0.0</td>\n",
              "      <td>0.160641</td>\n",
              "      <td>0.113776</td>\n",
              "      <td>0.638738</td>\n",
              "      <td>0.673329</td>\n",
              "      <td>0.406688</td>\n",
              "      <td>0.080517</td>\n",
              "      <td>0.999379</td>\n",
              "      <td>0.179456</td>\n",
              "      <td>0.988877</td>\n",
              "      <td>2.842586</td>\n",
              "      <td>0.598266</td>\n",
              "      <td>0.994163</td>\n",
              "    </tr>\n",
              "    <tr>\n",
              "      <th>min</th>\n",
              "      <td>-1.000000</td>\n",
              "      <td>-24.420000</td>\n",
              "      <td>1.0</td>\n",
              "      <td>-1.000000</td>\n",
              "      <td>-1.000000</td>\n",
              "      <td>-1.000000</td>\n",
              "      <td>-4.000000</td>\n",
              "      <td>-7.700000</td>\n",
              "      <td>-1.000000</td>\n",
              "      <td>-1.000000</td>\n",
              "      <td>-1.000000</td>\n",
              "      <td>-1.000000</td>\n",
              "      <td>0.004000</td>\n",
              "      <td>0.001000</td>\n",
              "      <td>-1.000000</td>\n",
              "    </tr>\n",
              "    <tr>\n",
              "      <th>25%</th>\n",
              "      <td>1.000000</td>\n",
              "      <td>-1.610000</td>\n",
              "      <td>1.0</td>\n",
              "      <td>1.000000</td>\n",
              "      <td>1.000000</td>\n",
              "      <td>1.000000</td>\n",
              "      <td>-1.000000</td>\n",
              "      <td>-0.480000</td>\n",
              "      <td>1.000000</td>\n",
              "      <td>-1.000000</td>\n",
              "      <td>1.000000</td>\n",
              "      <td>-1.000000</td>\n",
              "      <td>0.180000</td>\n",
              "      <td>0.184000</td>\n",
              "      <td>-1.000000</td>\n",
              "    </tr>\n",
              "    <tr>\n",
              "      <th>50%</th>\n",
              "      <td>1.000000</td>\n",
              "      <td>-0.730000</td>\n",
              "      <td>1.0</td>\n",
              "      <td>1.000000</td>\n",
              "      <td>1.000000</td>\n",
              "      <td>1.000000</td>\n",
              "      <td>0.000000</td>\n",
              "      <td>-0.480000</td>\n",
              "      <td>1.000000</td>\n",
              "      <td>1.000000</td>\n",
              "      <td>1.000000</td>\n",
              "      <td>1.000000</td>\n",
              "      <td>2.008000</td>\n",
              "      <td>0.360000</td>\n",
              "      <td>1.000000</td>\n",
              "    </tr>\n",
              "    <tr>\n",
              "      <th>75%</th>\n",
              "      <td>1.000000</td>\n",
              "      <td>-0.470000</td>\n",
              "      <td>1.0</td>\n",
              "      <td>1.000000</td>\n",
              "      <td>1.000000</td>\n",
              "      <td>1.000000</td>\n",
              "      <td>0.000000</td>\n",
              "      <td>-0.390000</td>\n",
              "      <td>1.000000</td>\n",
              "      <td>1.000000</td>\n",
              "      <td>1.000000</td>\n",
              "      <td>1.000000</td>\n",
              "      <td>4.204000</td>\n",
              "      <td>0.365000</td>\n",
              "      <td>1.000000</td>\n",
              "    </tr>\n",
              "    <tr>\n",
              "      <th>max</th>\n",
              "      <td>1.000000</td>\n",
              "      <td>-0.190000</td>\n",
              "      <td>1.0</td>\n",
              "      <td>1.000000</td>\n",
              "      <td>1.000000</td>\n",
              "      <td>1.000000</td>\n",
              "      <td>0.000000</td>\n",
              "      <td>0.000000</td>\n",
              "      <td>1.000000</td>\n",
              "      <td>1.000000</td>\n",
              "      <td>1.000000</td>\n",
              "      <td>1.000000</td>\n",
              "      <td>12.475000</td>\n",
              "      <td>3.172000</td>\n",
              "      <td>1.000000</td>\n",
              "    </tr>\n",
              "  </tbody>\n",
              "</table>\n",
              "</div>"
            ],
            "text/plain": [
              "          IPinURL      length  shortened  ...  domain_age  reg_length      Result\n",
              "count  617.000000  617.000000      617.0  ...  617.000000  617.000000  617.000000\n",
              "mean     0.974068   -1.358833        1.0  ...    2.503697    0.460621    0.115073\n",
              "std      0.226439    1.720178        0.0  ...    2.842586    0.598266    0.994163\n",
              "min     -1.000000  -24.420000        1.0  ...    0.004000    0.001000   -1.000000\n",
              "25%      1.000000   -1.610000        1.0  ...    0.180000    0.184000   -1.000000\n",
              "50%      1.000000   -0.730000        1.0  ...    2.008000    0.360000    1.000000\n",
              "75%      1.000000   -0.470000        1.0  ...    4.204000    0.365000    1.000000\n",
              "max      1.000000   -0.190000        1.0  ...   12.475000    3.172000    1.000000\n",
              "\n",
              "[8 rows x 15 columns]"
            ]
          },
          "metadata": {
            "tags": []
          },
          "execution_count": 16
        }
      ]
    },
    {
      "cell_type": "markdown",
      "metadata": {
        "colab_type": "text",
        "id": "tfbIccoF_VQp"
      },
      "source": [
        "## Shuffle Dataset"
      ]
    },
    {
      "cell_type": "code",
      "metadata": {
        "colab_type": "code",
        "id": "HX98k6hhbEyK",
        "colab": {}
      },
      "source": [
        "# Shuffle dataset\n",
        "data = data.sample(frac = 1).reset_index(drop = True)\n",
        "data_x = data.drop(['Result'], axis = 1).to_numpy()\n",
        "data_y = data['Result'].to_numpy()\n",
        "class_list = sorted(list(set(data_y)))\n",
        "train_x, test_x, train_y, test_y = train_test_split(data_x, data_y, test_size=0.33, stratify=data_y)"
      ],
      "execution_count": 0,
      "outputs": []
    },
    {
      "cell_type": "markdown",
      "metadata": {
        "colab_type": "text",
        "id": "P1cFlkpJGUml"
      },
      "source": [
        "## Add new features\n",
        "Engineering 2 additional columns:\n",
        "1. Sum of all features.\n",
        "2. Number of non-zero features.\n",
        "3. Variance of all features."
      ]
    },
    {
      "cell_type": "code",
      "metadata": {
        "colab_type": "code",
        "id": "2OgtYnt_GTt-",
        "colab": {}
      },
      "source": [
        "sum_x = np.sum(train_x, axis = 1).reshape(-1, 1)\n",
        "non_zeros_x = np.count_nonzero(train_x, axis = 1).reshape(-1, 1)\n",
        "var_x = np.var(train_x, axis = 1).reshape(-1, 1)\n",
        "new_train_x = np.hstack((train_x, sum_x, var_x, non_zeros_x))\n",
        "\n",
        "sum_x = np.sum(test_x, axis = 1).reshape(-1, 1)\n",
        "non_zeros_x = np.count_nonzero(test_x, axis = 1).reshape(-1, 1)\n",
        "var_x = np.var(test_x, axis = 1).reshape(-1, 1)\n",
        "new_test_x = np.hstack((test_x, sum_x, var_x, non_zeros_x))"
      ],
      "execution_count": 0,
      "outputs": []
    },
    {
      "cell_type": "markdown",
      "metadata": {
        "colab_type": "text",
        "id": "2yj1MtFHJ24p"
      },
      "source": [
        "## Plot Train Data Distribution"
      ]
    },
    {
      "cell_type": "code",
      "metadata": {
        "colab_type": "code",
        "id": "Ujn3SSgqFqpU",
        "outputId": "64ba975f-c13e-4ff2-8841-7f69062b9055",
        "colab": {
          "base_uri": "https://localhost:8080/",
          "height": 289
        }
      },
      "source": [
        "sns.set(style=\"darkgrid\")\n",
        "ax = sns.countplot(x = \"Result\", data = data, order = class_list)\n",
        "ax.set_xlabel(\"Classes\")\n",
        "ax.set_ylabel(\"Number\")\n",
        "labels = ax.get_xticklabels()\n",
        "for label in labels:\n",
        "    label.set_rotation(60)\n",
        "plt.rcParams['figure.figsize'] = (5,5)\n",
        "plt.show()"
      ],
      "execution_count": 20,
      "outputs": [
        {
          "output_type": "display_data",
          "data": {
            "image/png": "[encoded data removed]",
            "text/plain": [
              "<Figure size 432x288 with 1 Axes>"
            ]
          },
          "metadata": {
            "tags": []
          }
        }
      ]
    },
    {
      "cell_type": "markdown",
      "metadata": {
        "colab_type": "text",
        "id": "HntYpdqCoHbu"
      },
      "source": [
        "## Try default parameters"
      ]
    },
    {
      "cell_type": "code",
      "metadata": {
        "colab_type": "code",
        "id": "AUWGJpdfiGau",
        "outputId": "7cb5917a-5bd5-415a-cccd-e13e681fbe82",
        "colab": {
          "base_uri": "https://localhost:8080/",
          "height": 139
        }
      },
      "source": [
        " xgb_model = xgb.XGBClassifier(objective = 'binary:logistic', gamma = 1,  tree_method = 'gpu_hist', nthread = -1, verbosity = 2)\n",
        " xgb_model.fit(new_train_x, train_y)"
      ],
      "execution_count": 22,
      "outputs": [
        {
          "output_type": "execute_result",
          "data": {
            "text/plain": [
              "XGBClassifier(base_score=0.5, booster='gbtree', colsample_bylevel=1,\n",
              "              colsample_bynode=1, colsample_bytree=1, gamma=1,\n",
              "              learning_rate=0.1, max_delta_step=0, max_depth=3,\n",
              "              min_child_weight=1, missing=None, n_estimators=100, n_jobs=1,\n",
              "              nthread=-1, objective='binary:logistic', random_state=0,\n",
              "              reg_alpha=0, reg_lambda=1, scale_pos_weight=1, seed=None,\n",
              "              silent=None, subsample=1, tree_method='gpu_hist', verbosity=2)"
            ]
          },
          "metadata": {
            "tags": []
          },
          "execution_count": 22
        }
      ]
    },
    {
      "cell_type": "code",
      "metadata": {
        "colab_type": "code",
        "id": "DU7vPXLElEMH",
        "colab": {
          "base_uri": "https://localhost:8080/",
          "height": 35
        },
        "outputId": "32a1cb2f-de1e-4772-feb1-8d677725027b"
      },
      "source": [
        "xgb_model.score(new_test_x,test_y)"
      ],
      "execution_count": 23,
      "outputs": [
        {
          "output_type": "execute_result",
          "data": {
            "text/plain": [
              "0.9754901960784313"
            ]
          },
          "metadata": {
            "tags": []
          },
          "execution_count": 23
        }
      ]
    },
    {
      "cell_type": "markdown",
      "metadata": {
        "colab_type": "text",
        "id": "rkXuzfZu7dt_"
      },
      "source": [
        "## Grid Search using XGBoost Model"
      ]
    },
    {
      "cell_type": "code",
      "metadata": {
        "colab_type": "code",
        "id": "8eGTSP9L1x1b",
        "colab": {
          "base_uri": "https://localhost:8080/",
          "height": 468
        },
        "outputId": "6fc42a45-f6a3-4d2f-e52e-86ad8d23749f"
      },
      "source": [
        " xgb_model = xgb.XGBClassifier(objective = 'binary:logistic', gamma = 1,  tree_method = 'gpu_hist', nthread = -1, verbosity = 2)\n",
        " params = {\n",
        "     'learning_rate' : [0.05, 0.1, 0.5],\n",
        "     'n_estimators' : [200, 400, 600],\n",
        "     'max_depth' : [6, 9, 12],\n",
        "     'subsample': [0.5, 0.8, 1],\n",
        "     'colsample_bytree': [0.5, 0.8, 1],\n",
        "     'colsample_bylevel': [0.5, 0.8, 1],\n",
        " }\n",
        " xgb_gsm = RandomizedSearchCV(xgb_model, params, n_iter = 10, scoring = ['neg_log_loss', 'accuracy'], n_jobs = -1 , \n",
        "                              refit = 'neg_log_loss', cv = 4, verbose = 2, random_state = 7)\n",
        " xgb_gsm.fit(new_train_x, train_y)"
      ],
      "execution_count": 24,
      "outputs": [
        {
          "output_type": "stream",
          "text": [
            "Fitting 4 folds for each of 10 candidates, totalling 40 fits\n"
          ],
          "name": "stdout"
        },
        {
          "output_type": "stream",
          "text": [
            "[Parallel(n_jobs=-1)]: Using backend LokyBackend with 2 concurrent workers.\n",
            "[Parallel(n_jobs=-1)]: Done  37 tasks      | elapsed:  1.4min\n",
            "[Parallel(n_jobs=-1)]: Done  40 out of  40 | elapsed:  1.6min finished\n"
          ],
          "name": "stderr"
        },
        {
          "output_type": "execute_result",
          "data": {
            "text/plain": [
              "RandomizedSearchCV(cv=4, error_score=nan,\n",
              "                   estimator=XGBClassifier(base_score=0.5, booster='gbtree',\n",
              "                                           colsample_bylevel=1,\n",
              "                                           colsample_bynode=1,\n",
              "                                           colsample_bytree=1, gamma=1,\n",
              "                                           learning_rate=0.1, max_delta_step=0,\n",
              "                                           max_depth=3, min_child_weight=1,\n",
              "                                           missing=None, n_estimators=100,\n",
              "                                           n_jobs=1, nthread=-1,\n",
              "                                           objective='binary:logistic',\n",
              "                                           random_state=0, reg_alpha=0,\n",
              "                                           reg_lambda=1, scal...\n",
              "                   iid='deprecated', n_iter=10, n_jobs=-1,\n",
              "                   param_distributions={'colsample_bylevel': [0.5, 0.8, 1],\n",
              "                                        'colsample_bytree': [0.5, 0.8, 1],\n",
              "                                        'learning_rate': [0.05, 0.1, 0.5],\n",
              "                                        'max_depth': [6, 9, 12],\n",
              "                                        'n_estimators': [200, 400, 600],\n",
              "                                        'subsample': [0.5, 0.8, 1]},\n",
              "                   pre_dispatch='2*n_jobs', random_state=7,\n",
              "                   refit='neg_log_loss', return_train_score=False,\n",
              "                   scoring=['neg_log_loss', 'accuracy'], verbose=2)"
            ]
          },
          "metadata": {
            "tags": []
          },
          "execution_count": 24
        }
      ]
    },
    {
      "cell_type": "code",
      "metadata": {
        "colab_type": "code",
        "id": "WpA1CoBupx9-",
        "colab": {
          "base_uri": "https://localhost:8080/",
          "height": 121
        },
        "outputId": "4b8631bf-00eb-47bb-ef78-2fbf1d347863"
      },
      "source": [
        "xgb_gsm.best_params_"
      ],
      "execution_count": 25,
      "outputs": [
        {
          "output_type": "execute_result",
          "data": {
            "text/plain": [
              "{'colsample_bylevel': 1,\n",
              " 'colsample_bytree': 0.5,\n",
              " 'learning_rate': 0.1,\n",
              " 'max_depth': 12,\n",
              " 'n_estimators': 200,\n",
              " 'subsample': 1}"
            ]
          },
          "metadata": {
            "tags": []
          },
          "execution_count": 25
        }
      ]
    },
    {
      "cell_type": "markdown",
      "metadata": {
        "colab_type": "text",
        "id": "Be_yMf2bDRJf"
      },
      "source": [
        "## Best Params\n",
        "\n",
        "{'colsample_bylevel': 1,\n",
        " 'colsample_bytree': 0.5,\n",
        " 'learning_rate': 0.1,\n",
        " 'max_depth': 12,\n",
        " 'n_estimators': 200,\n",
        " 'subsample': 1}\n",
        "\n",
        "## Best Model\n",
        " XGBClassifier(base_score=0.5, booster='gbtree', colsample_bylevel=1,\n",
        "              colsample_bynode=1, colsample_bytree=0.5, gamma=1,\n",
        "              learning_rate=0.1, max_delta_step=0, max_depth=12,\n",
        "              min_child_weight=1, missing=None, n_estimators=200, n_jobs=1,\n",
        "              nthread=-1, objective='multi:softprob', random_state=0,\n",
        "              reg_alpha=0, reg_lambda=1, scale_pos_weight=1, seed=None,\n",
        "              silent=None, subsample=1, tree_method='gpu_hist', verbosity=2)"
      ]
    },
    {
      "cell_type": "code",
      "metadata": {
        "colab_type": "code",
        "id": "D62wq0INDrU0",
        "colab": {}
      },
      "source": [
        "xgb_model_best = xgb.XGBClassifier(base_score=0.5, booster='gbtree', colsample_bylevel=1,\n",
        "                colsample_bynode=1, colsample_bytree=0.5, gamma=1,\n",
        "                learning_rate=0.1, max_delta_step=0, max_depth=12,\n",
        "                min_child_weight=1, missing=None, n_estimators=200, n_jobs=1,\n",
        "                nthread=-1, objective='binary:logistic', random_state=0,\n",
        "                reg_alpha=0, reg_lambda=1, scale_pos_weight=1, seed=None,\n",
        "                silent=None, subsample=1,tree_method='gpu_hist',verbosity=2)\n",
        "xgb_model_best.fit(new_train_x,train_y)\n",
        "\n",
        "# save the model to disk\n",
        "filename = 'finalized_model.pkl'\n",
        "pickle.dump(xgb_model_best, open(filename, \"wb\"))"
      ],
      "execution_count": 0,
      "outputs": []
    },
    {
      "cell_type": "markdown",
      "metadata": {
        "colab_type": "text",
        "id": "6TRcgHiOLKj2"
      },
      "source": [
        "## Predict on Test"
      ]
    },
    {
      "cell_type": "code",
      "metadata": {
        "colab_type": "code",
        "id": "cyvoxbYYLJ2X",
        "outputId": "b740d452-86c2-480b-83e1-afb5100101f9",
        "colab": {
          "base_uri": "https://localhost:8080/",
          "height": 35
        }
      },
      "source": [
        "xgb_model_best.score(new_test_x,test_y)"
      ],
      "execution_count": 31,
      "outputs": [
        {
          "output_type": "execute_result",
          "data": {
            "text/plain": [
              "0.9705882352941176"
            ]
          },
          "metadata": {
            "tags": []
          },
          "execution_count": 31
        }
      ]
    },
    {
      "cell_type": "markdown",
      "metadata": {
        "colab_type": "text",
        "id": "PqxaCeO__eIr"
      },
      "source": [
        "## Experiments"
      ]
    },
    {
      "cell_type": "code",
      "metadata": {
        "colab_type": "code",
        "id": "4vadpiCsvdle",
        "colab": {}
      },
      "source": [
        "## Testing\n",
        "sk_folds = StratifiedKFold(n_splits = 3)\n",
        "\n",
        "tot_loss = 0\n",
        "tot_acc = 0\n",
        "count = 1\n",
        "for train_idx, val_idx in sk_folds.split(new_train_x, train_y):\n",
        "    x_train, y_train = new_train_x[train_idx], train_y[train_idx]\n",
        "    x_val, y_val = new_train_x[val_idx], train_y[val_idx]\n",
        "    xgb_model_best.fit(x_train, y_train)\n",
        "\n",
        "    # Train\n",
        "    train_preds = xgb_model_best.predict_proba(x_train)\n",
        "    train_loss = log_loss(y_train, train_preds)\n",
        "    \n",
        "    # Val\n",
        "    val_preds = xgb_model_best.predict_proba(x_val)\n",
        "    val_loss = log_loss(y_val, val_preds)\n",
        "    val_acc = accuracy_score(y_val, xgb_model_best.predict(x_val))\n",
        "\n",
        "    print(\"Split: {0}\\tTraining Loss:{1:.4f}\\tValidation Loss:{2:.4f}\".format(count, train_loss, val_loss))\n",
        "\n",
        "    # Total\n",
        "    tot_loss += val_loss\n",
        "    tot_acc += val_acc\n",
        "    count+=1\n",
        "print(\"\\nAverage Loss:{}\\nAverage Accuracy:{}\".format(tot_loss/3, (tot_acc/3)*100))"
      ],
      "execution_count": 0,
      "outputs": []
    }
  ]
}